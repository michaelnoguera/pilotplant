{
 "cells": [
  {
   "cell_type": "markdown",
   "metadata": {},
   "source": [
    "# NH3 Historical Data"
   ]
  },
  {
   "cell_type": "markdown",
   "metadata": {},
   "source": [
    "## 1. Import needed libraries and do other setup\n",
    "- `pandas` for interpreting tabular data\n",
    "- `numpy` for numerical operations\n",
    "- a function from the `scipy` library that finds maxima and minima\n",
    "- `datetime`, which interprets date/time data\n",
    "- `matplotlib`, for graphing\n",
    "- `ipywidgets`, for interactive widgets\n",
    "- `BytesIO`, to read the uploaded file"
   ]
  },
  {
   "cell_type": "code",
   "execution_count": null,
   "metadata": {},
   "outputs": [],
   "source": [
    "from __future__ import print_function\n",
    "\n",
    "import pandas as pd\n",
    "import numpy as np\n",
    "from scipy.signal import find_peaks\n",
    "import datetime as dt\n",
    "from io import BytesIO\n",
    "\n",
    "%matplotlib inline\n",
    "from matplotlib import pyplot as plt\n",
    "plt.rcParams[\"figure.figsize\"] = [16,9]\n",
    "\n",
    "from ipywidgets import interact, interactive, fixed, interact_manual\n",
    "import ipywidgets as widgets\n",
    "\n",
    "# Formatter to display tables side-by-side: https://stackoverflow.com/a/57832026/11639533\n",
    "from IPython.display import display, HTML\n",
    "\n",
    "def display_side_by_side(dfs:list, captions:list):\n",
    "    \"\"\"Display tables side by side to save vertical space\n",
    "    Input:\n",
    "        dfs: list of pandas.DataFrame\n",
    "        captions: list of table captions\n",
    "    \"\"\"\n",
    "    output = \"\"\n",
    "    combined = dict(zip(captions, dfs))\n",
    "    for caption, df in combined.items():\n",
    "        output += df.style.set_table_attributes(\"style='display:inline'\").set_caption(caption)._repr_html_()\n",
    "        output += \"\\xa0\\xa0\\xa0\"\n",
    "    display(HTML(output))\n",
    "\n",
    "# Prevent output cells from scrolling\n",
    "from IPython.display import Javascript\n",
    "\n",
    "def run_all(ev):\n",
    "    display(Javascript('IPython.notebook.execute_cell_range(IPython.notebook.get_selected_index()+1, IPython.notebook.ncells())'))\n",
    "    \n",
    "def reset(ev):\n",
    "    display(Javascript('IPython.notebook.kernel.restart(); setTimeout(function(){ IPython.notebook.execute_all_cells(); }, 1000);'))\n",
    "\n",
    "continue_button = widgets.Button(description=\"Continue\",button_style='success',icon=\"arrow-right\")\n",
    "continue_button.on_click(run_all)\n",
    "\n",
    "reset_button = widgets.Button(description=\"Reset\")\n",
    "reset_button.on_click(reset)\n",
    "\n",
    "# Download link generator to export data: https://stackoverflow.com/a/42907645/11639533\n",
    "import base64\n",
    "\n",
    "def create_download_link(df, title = \"Download CSV file\", filename = \"data.csv\"):\n",
    "    csv = df.to_csv()\n",
    "    b64 = base64.b64encode(csv.encode())\n",
    "    payload = b64.decode()\n",
    "    html = '<a download=\"{filename}\" href=\"data:text/csv;base64,{payload}\" target=\"_blank\">{title}</a>'\n",
    "    html = html.format(payload=payload,title=title,filename=filename)\n",
    "    return HTML(html)"
   ]
  },
  {
   "cell_type": "markdown",
   "metadata": {},
   "source": [
    "## 2. Upload CSV file"
   ]
  },
  {
   "cell_type": "code",
   "execution_count": null,
   "metadata": {},
   "outputs": [],
   "source": [
    "filepicker = widgets.FileUpload(\n",
    "    accept='text/csv',\n",
    "    button_style='info'\n",
    ")\n",
    "print(\"1. Click the upload button and select the file you want to analyze. The most recently uploaded file will be used.\")\n",
    "display(filepicker)\n",
    "print(\"2. Hit continue to move to the next step in the analysis.\")\n",
    "display(continue_button)"
   ]
  },
  {
   "cell_type": "markdown",
   "metadata": {},
   "source": [
    "## 3. Parse data from file"
   ]
  },
  {
   "cell_type": "code",
   "execution_count": null,
   "metadata": {},
   "outputs": [],
   "source": [
    "try:\n",
    "    raw = pd.read_csv(\n",
    "        BytesIO(filepicker.data[0]),  # Read from uploaded file\n",
    "        header=0,  # First row is a header\n",
    "        #index_col=0,  # Use first column for row indices\n",
    "        parse_dates=[0],  # Interpret first column as dates\n",
    "    ).dropna()  # Delete null values\n",
    "    print(\"This is the uploaded file. \")\n",
    "    display(raw)\n",
    "    \n",
    "    timecol = widgets.Dropdown(options=raw.columns, description='Time:')\n",
    "    if 'NH3' in raw.columns:\n",
    "        nh3col = widgets.Dropdown(options=raw.columns, description='NH3:', value='NH3')\n",
    "    else:\n",
    "        nh3col = widgets.Dropdown(options=raw.columns, description='NH3:')\n",
    "    print(\"Select the time and NH3 columns from the loaded file using the dropdown boxes below. Then click the continue button.\")\n",
    "    display(timecol, nh3col, continue_button)\n",
    "except IndexError:\n",
    "    print(\"Select a file using the upload button in Step 2, then click continue.\")"
   ]
  },
  {
   "cell_type": "code",
   "execution_count": null,
   "metadata": {},
   "outputs": [],
   "source": [
    "# Rename the columns to 'Time' and 'NH3' based on the selection above\n",
    "try:\n",
    "    df = raw[[timecol.value, nh3col.value]]\n",
    "    df = df.rename(columns={timecol.value: \"Time\", nh3col.value: \"NH3\"})\n",
    "except NameError:\n",
    "    print(\"Select a file using the upload button in Step 2, then click continue.\")"
   ]
  },
  {
   "cell_type": "markdown",
   "metadata": {},
   "source": [
    "## 4. Set threshold values\n",
    "We will find the maxima and minima using the `scipy.signal.find_peaks` function. To do so, a minimum threshold needs to be set for finding maximum values, as does a maximum for the minimums found."
   ]
  },
  {
   "cell_type": "code",
   "execution_count": null,
   "metadata": {},
   "outputs": [],
   "source": [
    "print(\"Adjust the cutoff sliders below so that most of the maximums are above the orange line, and most of the minimums\")\n",
    "print(\"are below the green one. If you want to type in a value, click the number to the right of the slider.\")\n",
    "\n",
    "def set_cutoff(orange=4.0, green=2.5):\n",
    "    global max_cutoff, min_cutoff\n",
    "    max_cutoff = orange\n",
    "    min_cutoff = green\n",
    "    plt.rcParams[\"figure.figsize\"] = [16,9]\n",
    "    plt.plot(df['Time'], df['NH3'])\n",
    "    plt.axhline(y=max_cutoff, color='orange', linestyle='-', linewidth=3)\n",
    "    plt.axhline(y=min_cutoff, color='green', linestyle='-', linewidth=3)\n",
    "    plt.show()\n",
    "\n",
    "cutoff_slider=interact(set_cutoff,\n",
    "    orange=widgets.FloatSlider(value=4.0, min=0, max=8, step=0.01, continuous_update=False, layout=widgets.Layout(width='100%', color='orange')),\n",
    "    green=widgets.FloatSlider(value=2.5, min=0, max=8, step=0.01, continuous_update=False, layout=widgets.Layout(width='100%')));\n",
    "\n",
    "display(continue_button)\n"
   ]
  },
  {
   "cell_type": "markdown",
   "metadata": {},
   "source": [
    "## 5. Detect peaks"
   ]
  },
  {
   "cell_type": "code",
   "execution_count": null,
   "metadata": {
    "scrolled": false
   },
   "outputs": [],
   "source": [
    "maxima, _ = find_peaks(df['NH3'], height=max_cutoff, prominence=0.3)\n",
    "minima, _ = find_peaks(-df['NH3'], height=-min_cutoff, prominence=0.3)\n",
    "\n",
    "maxima = df.iloc[maxima]\n",
    "minima = df.iloc[minima]\n",
    "\n",
    "with pd.option_context('mode.chained_assignment', None):\n",
    "    maxima.loc[:, 'type']='max'\n",
    "    minima.loc[:, 'type']='min'\n",
    "\n",
    "print('Here are the peaks detected. You can change the thresholds above and hit \"continue\" to update this graph')\n",
    "fig, ax = plt.subplots(figsize=(16, 9))\n",
    "plt.plot(df['Time'], df['NH3'])\n",
    "plt.plot(maxima['Time'], maxima['NH3'], \"o\")\n",
    "plt.plot(minima['Time'], minima['NH3'], \"o\")\n",
    "plt.axhline(y=max_cutoff, color='orange', linestyle='--', linewidth=2)\n",
    "plt.axhline(y=min_cutoff, color='green', linestyle='--', linewidth=2)\n",
    "plt.show()"
   ]
  },
  {
   "cell_type": "markdown",
   "metadata": {},
   "source": [
    "## 6. Rate Analysis\n",
    "Next, we find each interval of changing concentration based on these extrema. The rate of change is calculated for each and displayed on a graph below."
   ]
  },
  {
   "cell_type": "code",
   "execution_count": null,
   "metadata": {
    "scrolled": true
   },
   "outputs": [],
   "source": [
    "cmax = None\n",
    "cmin = None\n",
    "extrema = pd.merge_ordered(maxima, minima)\n",
    "\n",
    "# Make sure entries alternate between max and min, delete points that do not alternate\n",
    "i = 0\n",
    "imax=len(extrema)\n",
    "\n",
    "while (i+1 < imax):\n",
    "    if extrema['type'][i] == extrema['type'][i+1]:\n",
    "        #print(extrema.iloc[i])\n",
    "        extrema = extrema.drop(i, axis=0)\n",
    "    i += 1\n",
    "\n",
    "extrema['Delta_NH3'] = extrema['NH3'].diff()\n",
    "extrema['Delta_Time'] = extrema['Time'].diff()\n",
    "extrema = extrema.drop(0, axis=0)  # First row has no previous value to divide, thus has NaT time and NaN delta NH3\n",
    "extrema['NH3/Hour'] = extrema['Delta_NH3']/[pd.Timedelta.total_seconds(t)/3600 for t in extrema['Delta_Time']]\n",
    "\n",
    "display_side_by_side(\n",
    "    [\n",
    "        extrema[['Time', 'Delta_Time', 'NH3', 'Delta_NH3', 'NH3/Hour']][extrema['type'] == 'max'],\n",
    "        extrema[['Time', 'Delta_Time', 'NH3', 'Delta_NH3', 'NH3/Hour']][extrema['type'] == 'min']\n",
    "    ], [\"Maxima\", \"Minima\"])\n"
   ]
  },
  {
   "cell_type": "markdown",
   "metadata": {},
   "source": [
    "**You can download these maximum and minimum values using the link below.**"
   ]
  },
  {
   "cell_type": "code",
   "execution_count": null,
   "metadata": {},
   "outputs": [],
   "source": [
    "create_download_link(extrema)"
   ]
  },
  {
   "cell_type": "markdown",
   "metadata": {},
   "source": [
    "## 6. Rate Visualization"
   ]
  },
  {
   "cell_type": "code",
   "execution_count": null,
   "metadata": {
    "scrolled": false
   },
   "outputs": [],
   "source": [
    "# Plot resulting rates\n",
    "\n",
    "def plotrates(ymax=10, ymin=-10):\n",
    "    fig, ax = plt.subplots(figsize=(16, 9))\n",
    "    plt.rcParams[\"figure.figsize\"] = [16,9]\n",
    "    plt.ylim(top=ymax, bottom=ymin)\n",
    "    increases = plt.plot(extrema['Time'][extrema['type'] == 'max'], extrema['NH3/Hour'][extrema['type'] == 'max'], color='green')\n",
    "    decreases = plt.plot(extrema['Time'][extrema['type'] == 'min'], extrema['NH3/Hour'][extrema['type'] == 'min'], color='red')\n",
    "    rateplot = plt.show()\n",
    "print(\"You can adjust the scale on the y-axis using these sliders:\")\n",
    "interact(plotrates,\n",
    "    ymax=widgets.FloatSlider(value=10, min=0, max=20, step=0.1, continuous_update=False, layout=widgets.Layout(width='100%')),\n",
    "    ymin=widgets.FloatSlider(value=-10, min=-20, max=0, step=0.1, continuous_update=False, layout=widgets.Layout(width='100%')));"
   ]
  },
  {
   "cell_type": "code",
   "execution_count": null,
   "metadata": {},
   "outputs": [],
   "source": []
  }
 ],
 "metadata": {
  "kernelspec": {
   "display_name": "Python 3",
   "language": "python",
   "name": "python3"
  },
  "language_info": {
   "codemirror_mode": {
    "name": "ipython",
    "version": 3
   },
   "file_extension": ".py",
   "mimetype": "text/x-python",
   "name": "python",
   "nbconvert_exporter": "python",
   "pygments_lexer": "ipython3",
   "version": "3.8.3"
  }
 },
 "nbformat": 4,
 "nbformat_minor": 4
}
